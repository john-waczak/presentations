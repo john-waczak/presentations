{
 "cells": [
  {
   "cell_type": "markdown",
   "id": "cf2778f4",
   "metadata": {
    "slideshow": {
     "slide_type": "notes"
    }
   },
   "source": [
    "To host the slides, run\n",
    "\n",
    "```bash\n",
    "jupyter nbconvert ./JuliaPresentation.ipynb --to slides --post serve\n",
    "```"
   ]
  },
  {
   "cell_type": "markdown",
   "id": "abb1b712",
   "metadata": {
    "slideshow": {
     "slide_type": "slide"
    }
   },
   "source": [
    "# Julia: A Fresh Take on Scientific Computing \n",
    "\n",
    "John Waczak \n",
    "04-14-2022"
   ]
  },
  {
   "cell_type": "markdown",
   "id": "88b7d9f2",
   "metadata": {
    "slideshow": {
     "slide_type": "slide"
    }
   },
   "source": [
    "# MINTS Research Group\n",
    "\n",
    "![MINTS research group](./figures/MINTS_website.png)"
   ]
  },
  {
   "cell_type": "markdown",
   "id": "bbae8cc3",
   "metadata": {
    "slideshow": {
     "slide_type": "slide"
    }
   },
   "source": [
    "# Talk Outline\n",
    "\n",
    "0. Motivating Example\n",
    "1. Julia Overview\n",
    "2. Julia Package Ecosystem\n",
    "3. IDEs and Notebooks \n",
    "4. Scientific Computing \n",
    "5. $\\partial$P: Differentiable Programming \n",
    "6. Data Science and Machine Learning \n",
    "7. High Performance Computing \n",
    "8. Other Packages you should know about \n",
    "9. Resources "
   ]
  },
  {
   "cell_type": "markdown",
   "id": "de3161c1",
   "metadata": {
    "slideshow": {
     "slide_type": "slide"
    }
   },
   "source": [
    "# 0. Motivating Example: Neural ODEs"
   ]
  },
  {
   "cell_type": "markdown",
   "id": "c82a77de",
   "metadata": {
    "slideshow": {
     "slide_type": "subslide"
    }
   },
   "source": [
    "![Neural ODEs 1](./figures/nodes_paper.png)"
   ]
  },
  {
   "cell_type": "markdown",
   "id": "8e29a201",
   "metadata": {
    "slideshow": {
     "slide_type": "subslide"
    }
   },
   "source": [
    "![torchdiffeq 2](./figures/torchdiffeqex2.png)"
   ]
  },
  {
   "cell_type": "markdown",
   "id": "544e8916",
   "metadata": {
    "slideshow": {
     "slide_type": "subslide"
    }
   },
   "source": [
    "So how do we actually implement this? I cant make Autodiff work with the ODE solvers from SciPy..."
   ]
  },
  {
   "cell_type": "markdown",
   "id": "4aacd3ac",
   "metadata": {
    "slideshow": {
     "slide_type": "subslide"
    }
   },
   "source": [
    "**(bad) Answer:** re-write ODE solvers using pytorch (or tensorflow) specialized tensor types. \n",
    "\n",
    "![Torchdiff code](./figures/torchdiffeqex1.png)"
   ]
  },
  {
   "cell_type": "markdown",
   "id": "2475a0b2",
   "metadata": {
    "slideshow": {
     "slide_type": "subslide"
    }
   },
   "source": [
    "**Wouldn't it be nice if disparate code bases developed by different collobarations just worked together?** "
   ]
  },
  {
   "cell_type": "markdown",
   "id": "ae7bbe30",
   "metadata": {
    "slideshow": {
     "slide_type": "slide"
    }
   },
   "source": [
    "# Enter Julia: A programming language by scientists, for scientists"
   ]
  },
  {
   "cell_type": "markdown",
   "id": "56701fae",
   "metadata": {
    "slideshow": {
     "slide_type": "slide"
    }
   },
   "source": [
    "# 1. Julia Overview "
   ]
  },
  {
   "cell_type": "markdown",
   "id": "b7d3ae3a",
   "metadata": {
    "slideshow": {
     "slide_type": "subslide"
    }
   },
   "source": [
    "## 1.0 Why Julia? \n",
    "\n",
    "Julia is\n",
    "- **Fast**: The JIT compiles your functions to native LLVM with speeds that rival Fortran and C\n",
    "- **Dynamically Typed**: develop your code quickly as you would in Python or R. \n",
    "- **Reproducible**: The powerful package manager makes reproducible environments a breeze. Package and hardware dependencies are tracked via `Project.toml` and `Manifest.toml` files\n",
    "- **Composable**: Julia uses a *multiple-dispatch* paradigm allowing for effortless package composition\n",
    "- **OPEN SOURCE**: You won't need to enter wage slavery to afford a license for the software your dissertation is written in.  "
   ]
  },
  {
   "cell_type": "markdown",
   "id": "d0f6deb0",
   "metadata": {
    "slideshow": {
     "slide_type": "subslide"
    }
   },
   "source": [
    "Source: https://julialang.org/benchmarks/\n",
    "\n",
    "\n",
    "![Benchmarks 1](./figures/benchmarks1.svg)"
   ]
  },
  {
   "cell_type": "markdown",
   "id": "986bc336",
   "metadata": {
    "slideshow": {
     "slide_type": "subslide"
    }
   },
   "source": [
    "source: https://h2oai.github.io/db-benchmark/\n",
    "\n",
    "![benchmarks 2](./figures/benchmarks2.png)"
   ]
  },
  {
   "cell_type": "markdown",
   "id": "db02cf48",
   "metadata": {
    "slideshow": {
     "slide_type": "subslide"
    }
   },
   "source": [
    "## 1.1 Installing Julia  \n",
    "\n",
    "\n",
    "![Julia Downloads](./figures/julia_downloads.png)"
   ]
  },
  {
   "cell_type": "markdown",
   "id": "cd642137",
   "metadata": {
    "slideshow": {
     "slide_type": "subslide"
    }
   },
   "source": [
    "benchmarks on network graphs: https://www.timlrx.com/blog/benchmark-of-popular-graph-network-packages-v2\n",
    "\n",
    "![benchmarks 3](./figures/benchmarks3.webp)"
   ]
  },
  {
   "cell_type": "markdown",
   "id": "65beb3e8",
   "metadata": {
    "slideshow": {
     "slide_type": "subslide"
    }
   },
   "source": [
    "differential equations and SciML benchmarks: https://github.com/SciML/SciMLBenchmarks.jl \n",
    "\n",
    "![Benchmark4a](./figures/benchmark4a.png)\n",
    "![Benchmark4b](./figures/benchmark4b.png)"
   ]
  },
  {
   "cell_type": "markdown",
   "id": "aef35874",
   "metadata": {
    "slideshow": {
     "slide_type": "subslide"
    }
   },
   "source": [
    "There are two standard ways to run Julia: \n",
    "1. Interactively in the REPL (read-eval-print loop) \n",
    "2. Via scripts"
   ]
  },
  {
   "cell_type": "markdown",
   "id": "8208f385",
   "metadata": {
    "slideshow": {
     "slide_type": "subslide"
    }
   },
   "source": [
    "##  1.2 The Julia REPL"
   ]
  },
  {
   "cell_type": "markdown",
   "id": "51872662",
   "metadata": {
    "slideshow": {
     "slide_type": "subslide"
    }
   },
   "source": [
    "![Julia REPL](./figures/juliaREPL.png)"
   ]
  },
  {
   "cell_type": "markdown",
   "id": "d462a4cc",
   "metadata": {
    "slideshow": {
     "slide_type": "subslide"
    }
   },
   "source": [
    "## 1.3 Running Scripts \n",
    "\n",
    "```bash\n",
    "$: julia my_julia_script.jl\n",
    "```\n",
    "\n",
    "or \n",
    "\n",
    "```bash\n",
    "$: julia --project=my_Project.toml my_julia_script.jl\n",
    "```"
   ]
  },
  {
   "cell_type": "markdown",
   "id": "83f5c296",
   "metadata": {},
   "source": [
    "## 1.4 Syntax"
   ]
  },
  {
   "cell_type": "markdown",
   "id": "5b223248",
   "metadata": {},
   "source": [
    "### 1.4.1 Variables"
   ]
  },
  {
   "cell_type": "code",
   "execution_count": 4,
   "id": "b291609a",
   "metadata": {
    "slideshow": {
     "slide_type": "subslide"
    }
   },
   "outputs": [
    {
     "data": {
      "text/plain": [
       "12"
      ]
     },
     "execution_count": 4,
     "metadata": {},
     "output_type": "execute_result"
    }
   ],
   "source": [
    "# Variables can be declared dynamically\n",
    "\n",
    "X = 12 "
   ]
  },
  {
   "cell_type": "code",
   "execution_count": 5,
   "id": "3230aa1d",
   "metadata": {
    "slideshow": {
     "slide_type": "subslide"
    }
   },
   "outputs": [
    {
     "data": {
      "text/plain": [
       "\"Hello world!\""
      ]
     },
     "execution_count": 5,
     "metadata": {},
     "output_type": "execute_result"
    }
   ],
   "source": [
    "test_string = \"Hello world!\""
   ]
  },
  {
   "cell_type": "code",
   "execution_count": 6,
   "id": "47177220",
   "metadata": {
    "slideshow": {
     "slide_type": "subslide"
    }
   },
   "outputs": [
    {
     "data": {
      "text/plain": [
       "5-element Vector{Int64}:\n",
       " 1\n",
       " 2\n",
       " 3\n",
       " 4\n",
       " 5"
      ]
     },
     "execution_count": 6,
     "metadata": {},
     "output_type": "execute_result"
    }
   ],
   "source": [
    "vec = [1; 2; 3; 4; 5]"
   ]
  },
  {
   "cell_type": "code",
   "execution_count": 7,
   "id": "fe557530",
   "metadata": {
    "slideshow": {
     "slide_type": "subslide"
    }
   },
   "outputs": [
    {
     "data": {
      "text/plain": [
       "3×3 Matrix{Int64}:\n",
       " 1  2  3\n",
       " 4  5  6\n",
       " 7  8  9"
      ]
     },
     "execution_count": 7,
     "metadata": {},
     "output_type": "execute_result"
    }
   ],
   "source": [
    "test_array = [ 1 2 3; 4 5 6; 7 8 9]"
   ]
  },
  {
   "cell_type": "code",
   "execution_count": 11,
   "id": "bb86e0f2",
   "metadata": {
    "slideshow": {
     "slide_type": "subslide"
    }
   },
   "outputs": [
    {
     "data": {
      "text/plain": [
       "42.00001"
      ]
     },
     "execution_count": 11,
     "metadata": {},
     "output_type": "execute_result"
    }
   ],
   "source": [
    "# we can use ANY valid unicode for variable names \n",
    "δ = 0.00001\n",
    "😄 = 42 \n",
    "\n",
    "😄 + δ"
   ]
  },
  {
   "cell_type": "markdown",
   "id": "581a47f3",
   "metadata": {
    "slideshow": {
     "slide_type": "subslide"
    }
   },
   "source": [
    "### 1.4.2 Math"
   ]
  },
  {
   "cell_type": "code",
   "execution_count": 20,
   "id": "5ea224c0",
   "metadata": {
    "slideshow": {
     "slide_type": "subslide"
    }
   },
   "outputs": [
    {
     "name": "stdout",
     "output_type": "stream",
     "text": [
      "x+y = 42.0\n",
      "x-y = -22.0\n",
      "x*y = 320.0\n",
      "x/y = 0.3125\n",
      "x^y = 1.0e32\n",
      "y%x = 2.0\n"
     ]
    }
   ],
   "source": [
    "x = 10.0 \n",
    "y = 32.0 \n",
    "\n",
    "println(\"x+y = \", x+y)\n",
    "\n",
    "println(\"x-y = \", x-y)\n",
    "\n",
    "println(\"x*y = \", x*y)\n",
    "\n",
    "println(\"x/y = \", x/y)\n",
    "\n",
    "println(\"x^y = \", x^y)\n",
    "\n",
    "println(\"y%x = \", y%x)  # remainder"
   ]
  },
  {
   "cell_type": "code",
   "execution_count": 23,
   "id": "4018c969",
   "metadata": {
    "slideshow": {
     "slide_type": "subslide"
    }
   },
   "outputs": [
    {
     "name": "stdout",
     "output_type": "stream",
     "text": [
      "exp(x) = 22026.465794806718\n",
      "sin(x) = -0.5440211108893698\n",
      "log(x) = 2.302585092994046\n"
     ]
    }
   ],
   "source": [
    "# math function are available by default\n",
    "println(\"exp(x) = \", exp(x))\n",
    "println(\"sin(x) = \", sin(x))\n",
    "println(\"log(x) = \", log(x))"
   ]
  },
  {
   "cell_type": "markdown",
   "id": "e9901ae4",
   "metadata": {
    "slideshow": {
     "slide_type": "subslide"
    }
   },
   "source": [
    "### 1..4.3 Functions"
   ]
  },
  {
   "cell_type": "code",
   "execution_count": 24,
   "id": "042f9ad1",
   "metadata": {
    "slideshow": {
     "slide_type": "subslide"
    }
   },
   "outputs": [
    {
     "data": {
      "text/plain": [
       "f (generic function with 1 method)"
      ]
     },
     "execution_count": 24,
     "metadata": {},
     "output_type": "execute_result"
    }
   ],
   "source": [
    "# there are many ways to write functions in Julia! \n",
    "\n",
    "# standard: \n",
    "function f(x,y) \n",
    "    x + (1/3)y\n",
    "end"
   ]
  },
  {
   "cell_type": "code",
   "execution_count": 25,
   "id": "757a5a11",
   "metadata": {
    "slideshow": {
     "slide_type": "subslide"
    }
   },
   "outputs": [
    {
     "data": {
      "text/plain": [
       "5.0"
      ]
     },
     "execution_count": 25,
     "metadata": {},
     "output_type": "execute_result"
    }
   ],
   "source": [
    "f(2, 9)"
   ]
  },
  {
   "cell_type": "code",
   "execution_count": 27,
   "id": "2d854211",
   "metadata": {
    "slideshow": {
     "slide_type": "subslide"
    }
   },
   "outputs": [
    {
     "data": {
      "text/plain": [
       "5.0"
      ]
     },
     "execution_count": 27,
     "metadata": {},
     "output_type": "execute_result"
    }
   ],
   "source": [
    "# inline for Mathy oneliners \n",
    "f(x,y) = x + (1/3)y\n",
    "\n",
    "f(2, 9)"
   ]
  },
  {
   "cell_type": "code",
   "execution_count": 28,
   "id": "6e6b0e74",
   "metadata": {
    "slideshow": {
     "slide_type": "subslide"
    }
   },
   "outputs": [
    {
     "data": {
      "text/plain": [
       "5"
      ]
     },
     "execution_count": 28,
     "metadata": {},
     "output_type": "execute_result"
    }
   ],
   "source": [
    "# we can still use unicode characters for function names \n",
    "Σ(x, y) = x + y \n",
    "Σ(2, 3)"
   ]
  },
  {
   "cell_type": "code",
   "execution_count": 29,
   "id": "c4228da3",
   "metadata": {
    "slideshow": {
     "slide_type": "subslide"
    }
   },
   "outputs": [
    {
     "data": {
      "text/plain": [
       "6"
      ]
     },
     "execution_count": 29,
     "metadata": {},
     "output_type": "execute_result"
    }
   ],
   "source": [
    "# further, we can use the `return` keyword for more complicated examples\n",
    "function g(x,y) \n",
    "    return x*y \n",
    "    x+y \n",
    "end\n",
    "\n",
    "g(2,3)"
   ]
  },
  {
   "cell_type": "code",
   "execution_count": 32,
   "id": "3a3a1005",
   "metadata": {
    "slideshow": {
     "slide_type": "subslide"
    }
   },
   "outputs": [
    {
     "name": "stdout",
     "output_type": "stream",
     "text": [
      "Word: test, x: 42\n"
     ]
    }
   ],
   "source": [
    "# we can tell the compiler the variable types for our arguments\n",
    "function g(x::Int, word::String)\n",
    "    println(\"Word: $(word), x: $(x)\")\n",
    "end\n",
    "\n",
    "g(42, \"test\")"
   ]
  },
  {
   "cell_type": "markdown",
   "id": "ab6b14d3",
   "metadata": {
    "slideshow": {
     "slide_type": "subslide"
    }
   },
   "source": [
    "**NOTE**: Julia's attidue is that functions should be first class (not objects). \n",
    "\n",
    "- In linux, everything is a file\n",
    "- In Julia, (*almost*) everything is a function"
   ]
  },
  {
   "cell_type": "code",
   "execution_count": 36,
   "id": "589b231d",
   "metadata": {
    "slideshow": {
     "slide_type": "subslide"
    }
   },
   "outputs": [
    {
     "data": {
      "text/plain": [
       "42.0"
      ]
     },
     "execution_count": 36,
     "metadata": {},
     "output_type": "execute_result"
    }
   ],
   "source": [
    "# operators are functions!\n",
    "\n",
    "+(2.0, 10.0, 10.0, 20.0)"
   ]
  },
  {
   "cell_type": "code",
   "execution_count": 38,
   "id": "d32b8e16",
   "metadata": {
    "slideshow": {
     "slide_type": "subslide"
    }
   },
   "outputs": [
    {
     "data": {
      "text/plain": [
       "119.0"
      ]
     },
     "execution_count": 38,
     "metadata": {},
     "output_type": "execute_result"
    }
   ],
   "source": [
    "# we can do anymous functions as well \n",
    "map(x -> x^2 + 2x -1, 10.0)"
   ]
  },
  {
   "cell_type": "markdown",
   "id": "075f69c1",
   "metadata": {
    "slideshow": {
     "slide_type": "subslide"
    }
   },
   "source": [
    "### 1.4.4 Broadcasting"
   ]
  },
  {
   "cell_type": "code",
   "execution_count": 40,
   "id": "497fa6e3",
   "metadata": {
    "slideshow": {
     "slide_type": "subslide"
    }
   },
   "outputs": [
    {
     "data": {
      "text/plain": [
       "20-element Vector{Float64}:\n",
       " 1.0645590483743854\n",
       " 1.038623725499053\n",
       " 1.0291143701381171\n",
       " 1.038899300907736\n",
       " 1.070283166325028\n",
       " 1.053078106883773\n",
       " 1.061129525411541\n",
       " 1.0730624744777697\n",
       " 1.0172686682571426\n",
       " 1.090164685329572\n",
       " 1.0991764757649845\n",
       " 1.0354158881852373\n",
       " 1.0950182893013805\n",
       " 1.0162532305532506\n",
       " 1.0176052761603125\n",
       " 1.0756175573054676\n",
       " 1.0123555612798807\n",
       " 1.0482119921764608\n",
       " 1.030814057830626\n",
       " 1.0762815175823088"
      ]
     },
     "execution_count": 40,
     "metadata": {},
     "output_type": "execute_result"
    }
   ],
   "source": [
    "# we use \"dot\" syntax to broadcast functions across arrays, tuples, etc... \n",
    "x = ones(20)\n",
    "\n",
    "f(ξ) = ξ + 0.1*rand()\n",
    "\n",
    "# apply the func\n",
    "f.(x)"
   ]
  },
  {
   "cell_type": "markdown",
   "id": "b9817e48",
   "metadata": {
    "slideshow": {
     "slide_type": "subslide"
    }
   },
   "source": [
    "# 1.4.5 Control Flow"
   ]
  },
  {
   "cell_type": "markdown",
   "id": "fb8e91bf",
   "metadata": {},
   "source": [
    "## 1.5 Multiple Dispatch"
   ]
  },
  {
   "cell_type": "markdown",
   "id": "e41481c5",
   "metadata": {},
   "source": [
    "### Julia's type system"
   ]
  },
  {
   "cell_type": "markdown",
   "id": "8b2de9b0",
   "metadata": {},
   "source": [
    "### Multiple Dispatch is not Function Overloading"
   ]
  },
  {
   "cell_type": "markdown",
   "id": "eff38491",
   "metadata": {},
   "source": [
    "### Example 1: Forward Mode AD via Dual Numbers"
   ]
  },
  {
   "cell_type": "markdown",
   "id": "f95e4ed7",
   "metadata": {},
   "source": [
    "### Example 2: Combining `Measurements.jl` with `DifferentialEquations.jl`. \n",
    "**You have no excuse to ignore uncuertainties!**"
   ]
  },
  {
   "cell_type": "markdown",
   "id": "a8df133c",
   "metadata": {},
   "source": [
    "## 1.6 Loops are fast!"
   ]
  },
  {
   "cell_type": "markdown",
   "id": "2f0a378e",
   "metadata": {},
   "source": [
    "## 1.7 Metaprogramming"
   ]
  },
  {
   "cell_type": "markdown",
   "id": "588d9986",
   "metadata": {},
   "source": [
    "# 2. The Julia Package Ecosystem\n",
    "*Reproducability made easy* "
   ]
  },
  {
   "cell_type": "markdown",
   "id": "7cc51533",
   "metadata": {},
   "source": [
    "## 2.1 The best part of the Julia ecosystem *really* is... "
   ]
  },
  {
   "attachments": {},
   "cell_type": "markdown",
   "id": "22e099ce",
   "metadata": {},
   "source": [
    "![wtf am i reading](./figures/wtf_am_i_reading.png)"
   ]
  },
  {
   "cell_type": "markdown",
   "id": "dfc08036",
   "metadata": {},
   "source": [
    "## The package manager! "
   ]
  },
  {
   "cell_type": "markdown",
   "id": "f484f9f0",
   "metadata": {},
   "source": [
    "Modules in Julia can be included in code two different ways: \n",
    "- the `using` statement (add's packages functions to global namespace) \n",
    "- the `import` statement (python style restricted namespace)\n",
    "\n",
    "`using` seems to be the standard choice"
   ]
  },
  {
   "cell_type": "code",
   "execution_count": 41,
   "id": "e0ff5a86",
   "metadata": {},
   "outputs": [],
   "source": [
    "# ex 1: load the Package manager package: Pkg\n",
    "using Pkg"
   ]
  },
  {
   "cell_type": "code",
   "execution_count": 43,
   "id": "4c169879",
   "metadata": {},
   "outputs": [
    {
     "name": "stderr",
     "output_type": "stream",
     "text": [
      "\u001b[32m\u001b[1m    Updating\u001b[22m\u001b[39m registry at `~/.julia/registries/General.toml`\n",
      "\u001b[32m\u001b[1m   Resolving\u001b[22m\u001b[39m package versions...\n",
      "\u001b[32m\u001b[1m    Updating\u001b[22m\u001b[39m `~/gitrepos/presentations/julia/code/Project.toml`\n",
      " \u001b[90m [37e2e46d] \u001b[39m\u001b[92m+ LinearAlgebra\u001b[39m\n",
      "\u001b[32m\u001b[1m  No Changes\u001b[22m\u001b[39m to `~/gitrepos/presentations/julia/code/Manifest.toml`\n"
     ]
    }
   ],
   "source": [
    "# Add some packages\n",
    "Pkg.add([\n",
    "        \"LinearAlgebra\",\n",
    "        \"DifferentialEquations\",\n",
    "        \"Plots\",\n",
    "        \"DataFrames\",\n",
    "        \"BenchmarkTools\",\n",
    "        \"Latexify\"\n",
    "        ])"
   ]
  },
  {
   "cell_type": "code",
   "execution_count": 44,
   "id": "9394966c",
   "metadata": {},
   "outputs": [
    {
     "name": "stderr",
     "output_type": "stream",
     "text": [
      "┌ Info: Precompiling DifferentialEquations [0c46a032-eb83-5123-abaf-570d42b7fbaa]\n",
      "└ @ Base loading.jl:1423\n"
     ]
    }
   ],
   "source": [
    "# load in the packages\n",
    "using LinearAlgebra\n",
    "using DifferentialEquations\n",
    "using Plots\n",
    "using DataFrames\n",
    "using BenchmarkTools"
   ]
  },
  {
   "cell_type": "markdown",
   "id": "1b778f49",
   "metadata": {},
   "source": [
    "## 2.2 Defining project environments\n",
    "\n",
    "Using the package manager in the REPL makes it easy to generate reproducible programming envrionments\n",
    "\n",
    "\n",
    "![Pkg Demo](./figures/NewProject.mov)\n",
    "\n",
    "- `Manifest.toml` and `Project.toml` will update as we add new dependencies\n",
    "- We can then version control these files for easily reproducible envrionments "
   ]
  },
  {
   "cell_type": "markdown",
   "id": "56fb2980",
   "metadata": {},
   "source": [
    "## 2.3 Running your tests \n",
    "\n",
    "![run tests](./figures/runTests.mov)"
   ]
  },
  {
   "cell_type": "markdown",
   "id": "1664cf00",
   "metadata": {
    "slideshow": {
     "slide_type": "subslide"
    }
   },
   "source": [
    "## 2.4 Generating Documentation\n",
    "\n",
    "- documentation can be built from your function docstrings via `Documenter.jl`\n",
    "\n",
    "![documenter](./figures/documenter.png)"
   ]
  },
  {
   "cell_type": "markdown",
   "id": "feeeb61a",
   "metadata": {},
   "source": [
    "## 2.5 CI/CD via github workflows, travis, gitlab, etc.\n",
    "are easy to set up via `PkgTemplates.jl` \n",
    "\n",
    "Example: build project on Julia version 1.7 and nightly and run tests. Then build docs and publish to github pages\n",
    "\n",
    "![cicd](./figures/cicd.png)"
   ]
  },
  {
   "cell_type": "markdown",
   "id": "d76a725e",
   "metadata": {},
   "source": [
    "## 2.6 Excellent Documentation Example: `DifferentialEquations.jl`\n",
    "\n",
    "![diff eq docs](./figures/diffeqjldocs.png)"
   ]
  },
  {
   "cell_type": "markdown",
   "id": "a9ab96f6",
   "metadata": {},
   "source": [
    "# 3. IDEs and Notebooks"
   ]
  },
  {
   "cell_type": "markdown",
   "id": "7ebfb44f",
   "metadata": {},
   "source": [
    "## 3.1 VSCode Plugin\n",
    "\n",
    "![VSCode Julia](./figures/VSCode.png)"
   ]
  },
  {
   "cell_type": "markdown",
   "id": "f293b1c5",
   "metadata": {},
   "source": [
    "## 3.2 But if you're crazy... use Spacemacs\n",
    "\n",
    "![Spacemacs](./figures/spacemacs.png)"
   ]
  },
  {
   "cell_type": "markdown",
   "id": "23fb9098",
   "metadata": {},
   "source": [
    "## 3.3 Jupyter Notebooks via `IJulia.jl`"
   ]
  },
  {
   "cell_type": "markdown",
   "id": "7c03ae21",
   "metadata": {},
   "source": [
    "## 3.4 Reactive programming with `Pluto.jl` notebooks \n",
    "\n",
    "![Plut demo](./figures/plutodemo.gif)"
   ]
  },
  {
   "cell_type": "markdown",
   "id": "1ec1227b",
   "metadata": {},
   "source": [
    "MIT has designed their **[Introduction to Computational Thinking](https://computationalthinking.mit.edu/Spring21/)** course around these notebooks. Check out these interactive Pluto notebooks!\n",
    "\n",
    "![Intro Course](./figures/IntroCoursePage.mov)"
   ]
  },
  {
   "cell_type": "markdown",
   "id": "318c6599",
   "metadata": {},
   "source": [
    "# 4. Scientific Computing "
   ]
  },
  {
   "cell_type": "markdown",
   "id": "21aa4e43",
   "metadata": {},
   "source": [
    "## 4.0 `LinearAlgebra.jl`"
   ]
  },
  {
   "cell_type": "markdown",
   "id": "f9a899d8",
   "metadata": {},
   "source": [
    "## 4.1 Working with Data: `DataFrames.jl`"
   ]
  },
  {
   "cell_type": "markdown",
   "id": "40f8b94c",
   "metadata": {},
   "source": [
    "## 4.2 Plotting with `Plots.jl` "
   ]
  },
  {
   "cell_type": "markdown",
   "id": "17a8ab9a",
   "metadata": {},
   "source": [
    "### 4.2.1 Backends, Commands, everything else you wanted to know"
   ]
  },
  {
   "cell_type": "markdown",
   "id": "7f0aff9a",
   "metadata": {},
   "source": [
    "## 4.2.2 Plot Recipes: The greatest thing since sliced bread \n",
    "\n",
    "Use example of plots illustrative example of plots with measurements.jl... another cool example of multiple dispatch done right. "
   ]
  },
  {
   "cell_type": "markdown",
   "id": "b155ae6c",
   "metadata": {},
   "source": [
    "## 4.3 DifferentialEquations.jl "
   ]
  },
  {
   "cell_type": "markdown",
   "id": "3f42784d",
   "metadata": {},
   "source": [
    "### 4.3.1 Syntax "
   ]
  },
  {
   "cell_type": "markdown",
   "id": "27dc0bf6",
   "metadata": {},
   "source": [
    "### 4.3.2 Benchmarks"
   ]
  },
  {
   "cell_type": "markdown",
   "id": "a62499fd",
   "metadata": {},
   "source": [
    "### 4.3.3 PDE support"
   ]
  },
  {
   "cell_type": "markdown",
   "id": "a8a750ee",
   "metadata": {},
   "source": [
    "## 4.4 Leveraging metaprogramming for Domain Specific Languages\n",
    "\n",
    "- ModelingToolkit \n",
    "- Catalyst.jl\n",
    "- etc..."
   ]
  },
  {
   "cell_type": "markdown",
   "id": "65de27e9",
   "metadata": {},
   "source": [
    "## 4.5 `Unitful.jl`"
   ]
  },
  {
   "cell_type": "markdown",
   "id": "d51b5c71",
   "metadata": {},
   "source": [
    "## 4.6 Julia-Python-Matlab Cheatsheet"
   ]
  },
  {
   "cell_type": "markdown",
   "id": "7a11b973",
   "metadata": {},
   "source": [
    "## 4.7 Current Julia Projects\n",
    "- Clima.jl \n",
    "- some sort of "
   ]
  },
  {
   "cell_type": "markdown",
   "id": "e14452c1",
   "metadata": {},
   "source": [
    "# 5. $\\partial$P: Differentiable Programming"
   ]
  },
  {
   "cell_type": "markdown",
   "id": "a90c1840",
   "metadata": {},
   "source": [
    "## 5.0 Functions are First Class! "
   ]
  },
  {
   "cell_type": "markdown",
   "id": "edbb1f49",
   "metadata": {},
   "source": [
    "## 5.1 Automatic Differentiation + Multiple Dispatch = New Programming Paradigm "
   ]
  },
  {
   "cell_type": "markdown",
   "id": "ed413556",
   "metadata": {},
   "source": [
    "## 5.2 Forward-Mode AD via `ForwardDiff.jl`"
   ]
  },
  {
   "cell_type": "markdown",
   "id": "4258cf13",
   "metadata": {},
   "source": [
    "## 5.3 Reverse-Mode AD via `Zygote.jl`"
   ]
  },
  {
   "cell_type": "markdown",
   "id": "8fb754c8",
   "metadata": {},
   "source": [
    "## 5.3 Example: $\\sqrt{x}$ Babylonian Algorithm"
   ]
  },
  {
   "cell_type": "markdown",
   "id": "86c3a9ba",
   "metadata": {},
   "source": [
    "## 5.4 Jacobians and Hessians... Oh my! "
   ]
  },
  {
   "cell_type": "markdown",
   "id": "3f2a2010",
   "metadata": {},
   "source": [
    "## 5.5 $\\partial$P + Machine Learning = SciML"
   ]
  },
  {
   "cell_type": "markdown",
   "id": "057941fd",
   "metadata": {},
   "source": [
    "# 6. Data Science and Machine Learning in Julia"
   ]
  },
  {
   "cell_type": "markdown",
   "id": "e0986299",
   "metadata": {},
   "source": [
    "## 6.1 `Statistics.jl` "
   ]
  },
  {
   "cell_type": "markdown",
   "id": "894899ae",
   "metadata": {},
   "source": [
    "## 6.2 `StatsPlots.jl`"
   ]
  },
  {
   "cell_type": "markdown",
   "id": "eb239482",
   "metadata": {},
   "source": [
    "## 6.3 `Flux.jl`"
   ]
  },
  {
   "cell_type": "markdown",
   "id": "a888b6c3",
   "metadata": {},
   "source": [
    "### 6.3.1 A simple Example"
   ]
  },
  {
   "cell_type": "markdown",
   "id": "df18a0ad",
   "metadata": {},
   "source": [
    "### 6.3.2 Neural Networks are Functions\n",
    "- Show of Chain"
   ]
  },
  {
   "cell_type": "markdown",
   "id": "a918e2f6",
   "metadata": {},
   "source": [
    "### 6.3.3 Example Gallery"
   ]
  },
  {
   "cell_type": "markdown",
   "id": "c75e335a",
   "metadata": {},
   "source": [
    "## 6.4 `MLJ.jl` a general machine learning framework"
   ]
  },
  {
   "cell_type": "markdown",
   "id": "410ea219",
   "metadata": {},
   "source": [
    "### 6.4.1 Scientific Types"
   ]
  },
  {
   "cell_type": "markdown",
   "id": "9928fbe1",
   "metadata": {},
   "source": [
    "### 6.4.2 Loading Models"
   ]
  },
  {
   "cell_type": "markdown",
   "id": "e7578790",
   "metadata": {},
   "source": [
    "### 6.4.3 Training Models "
   ]
  },
  {
   "cell_type": "markdown",
   "id": "c5745889",
   "metadata": {},
   "source": [
    "### 6.4.4 Super-learners and general learning networks"
   ]
  },
  {
   "cell_type": "markdown",
   "id": "c292a44e",
   "metadata": {},
   "source": [
    "## 6.5 Evaluating models with Shapely Values"
   ]
  },
  {
   "cell_type": "markdown",
   "id": "4d3604d8",
   "metadata": {},
   "source": [
    "## 6.6 Other useful ML examples (reinforcement learning, etc...) "
   ]
  },
  {
   "cell_type": "markdown",
   "id": "5e0b2cd5",
   "metadata": {},
   "source": [
    "# 7. High Performance Computing"
   ]
  },
  {
   "cell_type": "markdown",
   "id": "d9afaba0",
   "metadata": {},
   "source": [
    "## 7.0 Benchmarking Julia code using `BenchmarkTools.jl`"
   ]
  },
  {
   "cell_type": "markdown",
   "id": "c04aa061",
   "metadata": {},
   "source": [
    "## 7.1 General remarks of acheiving performance in Julia (see manual) "
   ]
  },
  {
   "cell_type": "markdown",
   "id": "9e865843",
   "metadata": {},
   "source": [
    "### 7.1.2 Resource: Chris Rackauckas's class at MIT\n"
   ]
  },
  {
   "cell_type": "markdown",
   "id": "be045747",
   "metadata": {},
   "source": [
    "## 7.2 Multi-threading in Julia \n",
    "- JULIA_NUM_THREADS environment variable\n",
    "- Threads.@threads macro makes life easy! "
   ]
  },
  {
   "cell_type": "markdown",
   "id": "a7909292",
   "metadata": {},
   "source": [
    "## 7.3 Optimizing Loops with `@inbounds` and `@simd`"
   ]
  },
  {
   "cell_type": "markdown",
   "id": "531b5978",
   "metadata": {},
   "source": [
    "## 7.4 Distribued computing with `Distributed.jl`"
   ]
  },
  {
   "cell_type": "markdown",
   "id": "c4dbf1a4",
   "metadata": {},
   "source": [
    "## 7.5 GPUS with `CUDA.jl` "
   ]
  },
  {
   "cell_type": "markdown",
   "id": "603098ca",
   "metadata": {},
   "source": [
    "## 7.6 Loading the Julia module on HPC systems (Europa example) "
   ]
  },
  {
   "cell_type": "markdown",
   "id": "32b15e71",
   "metadata": {},
   "source": [
    "# 8. Other packages you should know about"
   ]
  },
  {
   "cell_type": "markdown",
   "id": "5a91cde1",
   "metadata": {},
   "source": [
    "## 8.1 Static site generation with `Franklin.jl` \n",
    "\n",
    " - show picture of different available templates\n",
    " - show the MIT intro to computational thinking site"
   ]
  },
  {
   "cell_type": "markdown",
   "id": "6c3e6c5c",
   "metadata": {},
   "source": [
    "## 8.2 Literate programming with `Literate.jl`"
   ]
  },
  {
   "cell_type": "markdown",
   "id": "7a9d3e2a",
   "metadata": {},
   "source": [
    "## 8.3 Easy package generation with `PkgTemplates.jl`"
   ]
  },
  {
   "cell_type": "markdown",
   "id": "f2522c14",
   "metadata": {},
   "source": [
    "## 8.4 `Graphs.jl` and associated packages \n",
    "\n",
    "- Plot network graphs \n",
    "- common graph theory functions \n",
    "- dispatches for generating graphs from other packages, e.g. catalyst.jl "
   ]
  },
  {
   "cell_type": "markdown",
   "id": "197f304a",
   "metadata": {},
   "source": [
    "# 8.5 `Images.jl`\n",
    "- array based image representation\n",
    "- examples of color spaces "
   ]
  },
  {
   "cell_type": "markdown",
   "id": "d6270374",
   "metadata": {},
   "source": [
    "## 8.5 Generating *nice* output with `Latexify.jl`"
   ]
  },
  {
   "cell_type": "markdown",
   "id": "f3c70375",
   "metadata": {},
   "source": [
    "# 9. Resources for learning Julia\n",
    "- Julia documentation (excellent!) \n",
    "- Downloading Julia\n",
    "- MIT course on computational thinking\n",
    "- Chris Rackauckas course \n",
    "- Talk Julia podcast\n",
    "- Julia Discourse \n",
    "- Julia Slack channel (great for getting help; excellent community) \n",
    "- Julia Con youtube playlist"
   ]
  },
  {
   "cell_type": "code",
   "execution_count": null,
   "id": "9474bf54",
   "metadata": {},
   "outputs": [],
   "source": []
  }
 ],
 "metadata": {
  "celltoolbar": "Slideshow",
  "kernelspec": {
   "display_name": "Julia 1.7.2",
   "language": "julia",
   "name": "julia-1.7"
  },
  "language_info": {
   "file_extension": ".jl",
   "mimetype": "application/julia",
   "name": "julia",
   "version": "1.7.2"
  }
 },
 "nbformat": 4,
 "nbformat_minor": 5
}
