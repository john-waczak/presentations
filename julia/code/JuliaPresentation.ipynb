{
 "cells": [
  {
   "cell_type": "markdown",
   "metadata": {
    "slideshow": {
     "slide_type": "skip"
    }
   },
   "source": [
    "To host the slides, run\n",
    "\n",
    "```bash\n",
    "jupyter nbconvert ./JuliaPresentation.ipynb --to slides --post serve\n",
    "```"
   ]
  },
  {
   "cell_type": "markdown",
   "metadata": {
    "slideshow": {
     "slide_type": "slide"
    }
   },
   "source": [
    "# Julia: A Fresh Take on Scientific Computing\n",
    "\n",
    "John Waczak \n",
    "04-07-2022"
   ]
  },
  {
   "cell_type": "markdown",
   "metadata": {
    "slideshow": {
     "slide_type": "subslide"
    }
   },
   "source": [
    "# About Me\n",
    "\n",
    "- MI3NTS Research Group \n",
    "- Applied physics + ML for societal benefit\n",
    "- Etc..."
   ]
  },
  {
   "cell_type": "markdown",
   "metadata": {
    "slideshow": {
     "slide_type": "subslide"
    }
   },
   "source": [
    "# Talk Outline\n",
    "\n",
    "0. Motivating Example\n",
    "1. Julia Overview\n",
    "2. Julia Package Ecosystem\n",
    "3. Jupyter and Pluto\n",
    "4. Scientific Computing\n",
    "5. $\\partial$P: Differentiable Programming\n",
    "6. Data Science / Machine Learning\n",
    "7. High Performance Computing\n",
    "8. Other Packages you should know about\n",
    "9. Resources \n"
   ]
  },
  {
   "cell_type": "markdown",
   "metadata": {
    "slideshow": {
     "slide_type": "slide"
    }
   },
   "source": [
    "# Motivating Example: Neural ODEs\n",
    "\n",
    "![Neural ODEs Paper](./figures/nodes_paper.png)\n"
   ]
  },
  {
   "cell_type": "code",
   "execution_count": null,
   "metadata": {},
   "outputs": [],
   "source": []
  }
 ],
 "metadata": {
  "celltoolbar": "Slideshow",
  "kernelspec": {
   "display_name": "Julia 1.7.2",
   "language": "julia",
   "name": "julia-1.7"
  },
  "language_info": {
   "file_extension": ".jl",
   "mimetype": "application/julia",
   "name": "julia",
   "version": "1.7.2"
  }
 },
 "nbformat": 4,
 "nbformat_minor": 2
}
