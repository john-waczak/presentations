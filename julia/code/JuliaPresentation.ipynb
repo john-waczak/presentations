{
 "cells": [
  {
   "cell_type": "markdown",
   "metadata": {
    "slideshow": {
     "slide_type": "skip"
    }
   },
   "source": [
    "To host the slides, run\n",
    "\n",
    "```bash\n",
    "jupyter nbconvert ./JuliaPresentation.ipynb --to slides --post serve\n",
    "```"
   ]
  },
  {
   "cell_type": "markdown",
   "metadata": {
    "slideshow": {
     "slide_type": "slide"
    }
   },
   "source": [
    "# Julia: A Fresh Take on Scientific Computing\n",
    "\n",
    "John Waczak \n",
    "04-07-2022"
   ]
  },
  {
   "cell_type": "markdown",
   "metadata": {
    "slideshow": {
     "slide_type": "subslide"
    }
   },
   "source": [
    "# About Me\n",
    "\n",
    "- MI3NTS Research Group \n",
    "- Applied physics + ML for societal benefit\n",
    "- Etc..."
   ]
  },
  {
   "cell_type": "markdown",
   "metadata": {
    "slideshow": {
     "slide_type": "subslide"
    }
   },
   "source": [
    "# Talk Outline\n",
    "\n",
    "0. Motivating Example\n",
    "1. Julia Overview\n",
    "2. Julia Package Ecosystem\n",
    "3. Jupyter and Pluto\n",
    "4. Scientific Computing\n",
    "5. $\\partial$P: Differentiable Programming\n",
    "6. Data Science / Machine Learning\n",
    "7. High Performance Computing\n",
    "8. Other Packages you should know about\n",
    "9. Resources \n"
   ]
  },
  {
   "cell_type": "markdown",
   "metadata": {
    "slideshow": {
     "slide_type": "slide"
    }
   },
   "source": [
    "# Motivating Example: Neural ODEs\n",
    "\n",
    "![Neural ODEs Paper](./figures/nodes_paper.png)\n"
   ]
  },
  {
   "cell_type": "markdown",
   "metadata": {
    "slideshow": {
     "slide_type": "subslide"
    }
   },
   "source": [
    "Looking closer at the code... "
   ]
  },
  {
   "cell_type": "markdown",
   "metadata": {
    "slideshow": {
     "slide_type": "subslide"
    }
   },
   "source": [
    "![torchdiffeq 1](./figures/torchdiffeqex1.png)"
   ]
  },
  {
   "cell_type": "markdown",
   "metadata": {
    "slideshow": {
     "slide_type": "subslide"
    }
   },
   "source": [
    "To get the functionality we want, we have to reimplement standard ODE solvers on `Pytorch`'s tensor types. You can't just use `SciPy` solvers with `Numpy` arrays! \n",
    "\n",
    "\n",
    "**Wouldn't it be nice if disparate code bases developed by different teams just worked together?** "
   ]
  },
  {
   "cell_type": "markdown",
   "metadata": {
    "slideshow": {
     "slide_type": "subslide"
    }
   },
   "source": [
    "# Enter Julia: A programming language by scientists, for scientists\n",
    "\n",
    "<iframe src=\"https://julialang.org\" title=\"The Julia Programming Language\"></iframe>"
   ]
  },
  {
   "cell_type": "markdown",
   "metadata": {
    "slideshow": {
     "slide_type": "slide"
    }
   },
   "source": [
    "# 1. Julia Overview"
   ]
  },
  {
   "cell_type": "markdown",
   "metadata": {
    "slideshow": {
     "slide_type": "subslide"
    }
   },
   "source": [
    "Julia is\n",
    "- **Fast**: The JIT compiles your functions to native LLVM\n",
    "- **Dynamically Typed**: develop your code quickly as you would in Python or R. \n",
    "- **Reproducible**: The powerful package manager makes reproducible environments a breeze. Package and hardware dependencies are tracked via `Project.toml` and `Manifest.toml` files\n",
    "- **Composable**: Julia uses a *multiple-dispatch* paradigm allowing for effortless package composition\n",
    "- **OPEN SOURCE** \n"
   ]
  },
  {
   "cell_type": "markdown",
   "metadata": {
    "slideshow": {
     "slide_type": "subslide"
    }
   },
   "source": [
    "# Running Julia\n",
    "There are two standard ways to run Julia: From a REPL (read-eval-print loop)\n",
    "\n",
    "![Julia REPL](./figures/juliaREPL.png)\n",
    "\n",
    "\n",
    "Or via the terminal, eg\n",
    "```bash\n",
    "$: julia my_script.jl\n",
    "```"
   ]
  },
  {
   "cell_type": "code",
   "execution_count": 2,
   "metadata": {
    "slideshow": {
     "slide_type": "subslide"
    }
   },
   "outputs": [
    {
     "name": "stdout",
     "output_type": "stream",
     "text": [
      "3\n",
      "2\n",
      "0.4997498749374687\n"
     ]
    }
   ],
   "source": [
    "# some common julia operations: \n",
    "\n",
    "a = 1 \n",
    "b = 2 \n",
    "ϵ = 0.001\n",
    "\n",
    "println(a+b)\n",
    "println(a*b)\n",
    "println((a-ϵ)/(b-ϵ))"
   ]
  },
  {
   "cell_type": "code",
   "execution_count": 8,
   "metadata": {
    "slideshow": {
     "slide_type": "subslide"
    }
   },
   "outputs": [
    {
     "name": "stdout",
     "output_type": "stream",
     "text": [
      "[0.0, 0.3090169943749474, 0.5877852522924731, 0.8090169943749475, 0.9510565162951535, 1.0, 0.9510565162951536, 0.8090169943749475, 0.5877852522924732, 0.3090169943749475, 1.2246467991473532e-16]\n",
      "\n",
      "\n",
      "[1.0, 1.369107770624847, 1.8744560875853382, 2.566332395208135, 3.5135856242857333, 4.810477380965351, 6.586061962694725, 9.017028610942077, 12.345283939187368, 16.902024171711545, 23.140692632779267]\n"
     ]
    }
   ],
   "source": [
    "# \".\" syntax is used for broadcasting across vectors, matrices, etc... \n",
    "\n",
    "x = 0:(π/10):π  # i.e. linspace()\n",
    "\n",
    "println(sin.(x))\n",
    "println(\"\\n\")\n",
    "println(exp.(x))"
   ]
  },
  {
   "cell_type": "code",
   "execution_count": 73,
   "metadata": {
    "slideshow": {
     "slide_type": "subslide"
    }
   },
   "outputs": [
    {
     "data": {
      "text/plain": [
       "2-element Vector{Float64}:\n",
       " 0.625\n",
       " 0.125"
      ]
     },
     "execution_count": 73,
     "metadata": {},
     "output_type": "execute_result"
    }
   ],
   "source": [
    "# some linear algebra examples\n",
    "\n",
    "A = [1 3; 5 -9]\n",
    "b = [1; 2]\n",
    "\n",
    "x = A\\b  # Solve linear system Ax = b"
   ]
  },
  {
   "cell_type": "code",
   "execution_count": 30,
   "metadata": {
    "slideshow": {
     "slide_type": "subslide"
    }
   },
   "outputs": [
    {
     "data": {
      "text/plain": [
       "2×2 adjoint(::Matrix{Int64}) with eltype Int64:\n",
       " 1   5\n",
       " 3  -9"
      ]
     },
     "metadata": {},
     "output_type": "display_data"
    },
    {
     "data": {
      "text/plain": [
       "2×2 Matrix{Complex{Int64}}:\n",
       "  1+0im  2+1im\n",
       " -3+0im  5-2im"
      ]
     },
     "metadata": {},
     "output_type": "display_data"
    },
    {
     "data": {
      "text/plain": [
       "2×2 adjoint(::Matrix{Complex{Int64}}) with eltype Complex{Int64}:\n",
       " 1+0im  -3+0im\n",
       " 2-1im   5+2im"
      ]
     },
     "metadata": {},
     "output_type": "display_data"
    }
   ],
   "source": [
    "display(A') # compute adjoint\n",
    "\n",
    "\n",
    "B= [ 1 2+1im; -3 5-2im]\n",
    "display(B)\n",
    "\n",
    "display(B')"
   ]
  },
  {
   "cell_type": "markdown",
   "metadata": {
    "slideshow": {
     "slide_type": "slide"
    }
   },
   "source": [
    "# Julia Package Ecosystem\n",
    "Packages in Julia can be included in code two different ways: \n",
    "- the `using` statement (add's packages functions to global namespace) \n",
    "- the `import` statement (python style restricted namespace) "
   ]
  },
  {
   "cell_type": "code",
   "execution_count": 68,
   "metadata": {
    "slideshow": {
     "slide_type": "subslide"
    }
   },
   "outputs": [],
   "source": [
    "using LinearAlgebra\n",
    "using DifferentialEquations\n",
    "using Plots\n",
    "using DataFrames  # Pandas-style data tables\n",
    "using BenchmarkTools # for timing function calls"
   ]
  },
  {
   "cell_type": "markdown",
   "metadata": {
    "slideshow": {
     "slide_type": "subslide"
    }
   },
   "source": [
    "For packages you don't have installed, you can add the easily in the repl or by using the `Pkg` package"
   ]
  },
  {
   "cell_type": "code",
   "execution_count": 36,
   "metadata": {
    "slideshow": {
     "slide_type": "subslide"
    }
   },
   "outputs": [
    {
     "name": "stderr",
     "output_type": "stream",
     "text": [
      "\u001b[32m\u001b[1m    Updating\u001b[22m\u001b[39m registry at `~/.julia/registries/General.toml`\n",
      "\u001b[32m\u001b[1m   Resolving\u001b[22m\u001b[39m package versions...\n",
      "\u001b[32m\u001b[1m    Updating\u001b[22m\u001b[39m `~/gitrepos/presentations/julia/code/Project.toml`\n",
      " \u001b[90m [23fbe1c1] \u001b[39m\u001b[92m+ Latexify v0.15.14\u001b[39m\n",
      "\u001b[32m\u001b[1m  No Changes\u001b[22m\u001b[39m to `~/gitrepos/presentations/julia/code/Manifest.toml`\n"
     ]
    }
   ],
   "source": [
    "using Pkg\n",
    "Pkg.add(\"Latexify\") \n",
    "\n",
    "# see updated .toml files"
   ]
  },
  {
   "cell_type": "code",
   "execution_count": 38,
   "metadata": {
    "slideshow": {
     "slide_type": "subslide"
    }
   },
   "outputs": [
    {
     "data": {
      "text/latex": [
       "\\begin{equation}\n",
       "\\left[\n",
       "\\begin{array}{cc}\n",
       "1 & 3 \\\\\n",
       "5 & -9 \\\\\n",
       "\\end{array}\n",
       "\\right]\n",
       "\\end{equation}\n"
      ],
      "text/plain": [
       "L\"\\begin{equation}\n",
       "\\left[\n",
       "\\begin{array}{cc}\n",
       "1 & 3 \\\\\n",
       "5 & -9 \\\\\n",
       "\\end{array}\n",
       "\\right]\n",
       "\\end{equation}\n",
       "\""
      ]
     },
     "execution_count": 38,
     "metadata": {},
     "output_type": "execute_result"
    }
   ],
   "source": [
    "# Now we can add the package\n",
    "using Latexify\n",
    "\n",
    "latexify(A)"
   ]
  },
  {
   "cell_type": "markdown",
   "metadata": {
    "slideshow": {
     "slide_type": "subslide"
    }
   },
   "source": [
    "# Getting help\n",
    "\n",
    "- Documentation in Julia is typically *pretty good*.\n",
    "- Package specific documentation often found through link in github readme \n",
    "- From the repl (or jupyter) you can get help by typing `?` followed by the function name\n",
    "- Docstrings use markdown allowing for nice styling, equation support, etc... "
   ]
  },
  {
   "cell_type": "code",
   "execution_count": 39,
   "metadata": {
    "slideshow": {
     "slide_type": "subslide"
    }
   },
   "outputs": [
    {
     "data": {
      "text/latex": [
       "\\begin{verbatim}\n",
       "Transpose\n",
       "\\end{verbatim}\n",
       "Lazy wrapper type for a transpose view of the underlying linear algebra object, usually an \\texttt{AbstractVector}/\\texttt{AbstractMatrix}, but also some \\texttt{Factorization}, for instance. Usually, the \\texttt{Transpose} constructor should not be called directly, use \\href{@ref}{\\texttt{transpose}} instead. To materialize the view use \\href{@ref}{\\texttt{copy}}.\n",
       "\n",
       "This type is intended for linear algebra usage - for general data manipulation see \\href{@ref Base.permutedims}{\\texttt{permutedims}}.\n",
       "\n",
       "\\section{Examples}\n",
       "\\begin{verbatim}\n",
       "julia> A = [3+2im 9+2im; 8+7im  4+6im]\n",
       "2×2 Matrix{Complex{Int64}}:\n",
       " 3+2im  9+2im\n",
       " 8+7im  4+6im\n",
       "\n",
       "julia> transpose(A)\n",
       "2×2 transpose(::Matrix{Complex{Int64}}) with eltype Complex{Int64}:\n",
       " 3+2im  8+7im\n",
       " 9+2im  4+6im\n",
       "\\end{verbatim}\n"
      ],
      "text/markdown": [
       "```\n",
       "Transpose\n",
       "```\n",
       "\n",
       "Lazy wrapper type for a transpose view of the underlying linear algebra object, usually an `AbstractVector`/`AbstractMatrix`, but also some `Factorization`, for instance. Usually, the `Transpose` constructor should not be called directly, use [`transpose`](@ref) instead. To materialize the view use [`copy`](@ref).\n",
       "\n",
       "This type is intended for linear algebra usage - for general data manipulation see [`permutedims`](@ref Base.permutedims).\n",
       "\n",
       "# Examples\n",
       "\n",
       "```jldoctest\n",
       "julia> A = [3+2im 9+2im; 8+7im  4+6im]\n",
       "2×2 Matrix{Complex{Int64}}:\n",
       " 3+2im  9+2im\n",
       " 8+7im  4+6im\n",
       "\n",
       "julia> transpose(A)\n",
       "2×2 transpose(::Matrix{Complex{Int64}}) with eltype Complex{Int64}:\n",
       " 3+2im  8+7im\n",
       " 9+2im  4+6im\n",
       "```\n"
      ],
      "text/plain": [
       "\u001b[36m  Transpose\u001b[39m\n",
       "\n",
       "  Lazy wrapper type for a transpose view of the underlying linear algebra\n",
       "  object, usually an \u001b[36mAbstractVector\u001b[39m/\u001b[36mAbstractMatrix\u001b[39m, but also some\n",
       "  \u001b[36mFactorization\u001b[39m, for instance. Usually, the \u001b[36mTranspose\u001b[39m constructor should not\n",
       "  be called directly, use \u001b[36mtranspose\u001b[39m instead. To materialize the view use \u001b[36mcopy\u001b[39m.\n",
       "\n",
       "  This type is intended for linear algebra usage - for general data\n",
       "  manipulation see \u001b[36mpermutedims\u001b[39m.\n",
       "\n",
       "\u001b[1m  Examples\u001b[22m\n",
       "\u001b[1m  ≡≡≡≡≡≡≡≡≡≡\u001b[22m\n",
       "\n",
       "\u001b[36m  julia> A = [3+2im 9+2im; 8+7im  4+6im]\u001b[39m\n",
       "\u001b[36m  2×2 Matrix{Complex{Int64}}:\u001b[39m\n",
       "\u001b[36m   3+2im  9+2im\u001b[39m\n",
       "\u001b[36m   8+7im  4+6im\u001b[39m\n",
       "\u001b[36m  \u001b[39m\n",
       "\u001b[36m  julia> transpose(A)\u001b[39m\n",
       "\u001b[36m  2×2 transpose(::Matrix{Complex{Int64}}) with eltype Complex{Int64}:\u001b[39m\n",
       "\u001b[36m   3+2im  8+7im\u001b[39m\n",
       "\u001b[36m   9+2im  4+6im\u001b[39m"
      ]
     },
     "execution_count": 39,
     "metadata": {},
     "output_type": "execute_result"
    }
   ],
   "source": [
    "?Transpose()"
   ]
  },
  {
   "cell_type": "markdown",
   "metadata": {
    "slideshow": {
     "slide_type": "subslide"
    }
   },
   "source": [
    "# Creating Reproducible Projects \n",
    "The package system at the reple makes it easy to generate repoducbile programming envionments. \n",
    "\n",
    "![Pkg Demo](./figures/NewProject.mov)\n",
    "\n",
    "- `Manifest.toml` and `Project.toml` will update as we add new dependencies\n",
    "- We can then version control these files for easily reproducible envrionments "
   ]
  },
  {
   "cell_type": "markdown",
   "metadata": {
    "slideshow": {
     "slide_type": "slide"
    }
   },
   "source": [
    "# 3. Jupyter, Pluto, VSCode, and all that\n",
    "\n",
    "There are many excellent ways to code in Julia from the standard Jupyter notebooks to the excellent VSCode extension. Pluto notebooks provide a unique reactive-style notebook exccelent for creating interactive documents and teaching resources.  "
   ]
  },
  {
   "cell_type": "markdown",
   "metadata": {
    "slideshow": {
     "slide_type": "subslide"
    }
   },
   "source": [
    "# Jupyter\n",
    "\n",
    "- Julia has full support for Jupyter via the `IJulia` package (as you can see from these slides...)\n",
    "- **NOTE** To add the Julia kernel to prexisting Jupyter installs, you may need to run `] build IJulia`"
   ]
  },
  {
   "cell_type": "markdown",
   "metadata": {},
   "source": [
    "# Pluto \n",
    "\n",
    "![Plut demo](./figures/plutodemo.gif)"
   ]
  },
  {
   "cell_type": "markdown",
   "metadata": {
    "slideshow": {
     "slide_type": "subslide"
    }
   },
   "source": [
    "MIT has designed their **[Introduction to Computational Thinking](https://computationalthinking.mit.edu/Spring21/)** course around these notebooks. Check out these interactive Pluto notebooks!\n",
    "\n",
    "![Intro Course](./figures/IntroCoursePage.mov)"
   ]
  },
  {
   "cell_type": "markdown",
   "metadata": {},
   "source": [
    "# VSCode \n",
    "\n",
    "If you prefer working with scripts from an IDE, VSCode has an excellent extension\n",
    "\n",
    "![VSCode Julia](./figures/VSCode.png)"
   ]
  },
  {
   "cell_type": "markdown",
   "metadata": {
    "slideshow": {
     "slide_type": "subslide"
    }
   },
   "source": [
    "...my personal preference is to use Emacs with vim keybindings ala `Spacemacs` \n",
    "\n",
    "![Spacemacs](./figures/spacemacs.png)"
   ]
  },
  {
   "cell_type": "markdown",
   "metadata": {
    "slideshow": {
     "slide_type": "slide"
    }
   },
   "source": [
    "# 4. Scientific Computing in Julia"
   ]
  },
  {
   "cell_type": "code",
   "execution_count": 58,
   "metadata": {
    "slideshow": {
     "slide_type": "subslide"
    }
   },
   "outputs": [
    {
     "data": {
      "text/latex": [
       "\\begin{equation}\n",
       "\\left[\n",
       "\\begin{array}{ccc}\n",
       "1 & 2 & 3 \\\\\n",
       "4 & 1 & 6 \\\\\n",
       "7 & 8 & 1 \\\\\n",
       "\\end{array}\n",
       "\\right]\n",
       "\\end{equation}\n"
      ],
      "text/plain": [
       "L\"\\begin{equation}\n",
       "\\left[\n",
       "\\begin{array}{ccc}\n",
       "1 & 2 & 3 \\\\\n",
       "4 & 1 & 6 \\\\\n",
       "7 & 8 & 1 \\\\\n",
       "\\end{array}\n",
       "\\right]\n",
       "\\end{equation}\n",
       "\""
      ]
     },
     "metadata": {},
     "output_type": "display_data"
    },
    {
     "data": {
      "text/plain": [
       "3"
      ]
     },
     "metadata": {},
     "output_type": "display_data"
    },
    {
     "data": {
      "text/plain": [
       "104.0"
      ]
     },
     "metadata": {},
     "output_type": "display_data"
    },
    {
     "data": {
      "text/latex": [
       "\\begin{equation}\n",
       "\\left[\n",
       "\\begin{array}{ccc}\n",
       "-0.4519230769230769 & 0.21153846153846154 & 0.08653846153846154 \\\\\n",
       "0.3653846153846154 & -0.19230769230769232 & 0.05769230769230769 \\\\\n",
       "0.24038461538461536 & 0.057692307692307696 & -0.0673076923076923 \\\\\n",
       "\\end{array}\n",
       "\\right]\n",
       "\\end{equation}\n"
      ],
      "text/plain": [
       "L\"\\begin{equation}\n",
       "\\left[\n",
       "\\begin{array}{ccc}\n",
       "-0.4519230769230769 & 0.21153846153846154 & 0.08653846153846154 \\\\\n",
       "0.3653846153846154 & -0.19230769230769232 & 0.05769230769230769 \\\\\n",
       "0.24038461538461536 & 0.057692307692307696 & -0.0673076923076923 \\\\\n",
       "\\end{array}\n",
       "\\right]\n",
       "\\end{equation}\n",
       "\""
      ]
     },
     "metadata": {},
     "output_type": "display_data"
    },
    {
     "data": {
      "text/plain": [
       "Eigen{Float64, Float64, Matrix{Float64}, Vector{Float64}}\n",
       "values:\n",
       "3-element Vector{Float64}:\n",
       " -6.214612641961068\n",
       " -1.554026596484783\n",
       " 10.768639238445848\n",
       "vectors:\n",
       "3×3 Matrix{Float64}:\n",
       " -0.175709  -0.766257  -0.344989\n",
       " -0.570057   0.587185  -0.589753\n",
       "  0.802596   0.26089   -0.730188"
      ]
     },
     "metadata": {},
     "output_type": "display_data"
    }
   ],
   "source": [
    "# Linear Alebra \n",
    "using LinearAlgebra\n",
    "\n",
    "A = [1 2 3; 4 1 6; 7 8 1]\n",
    "display(latexify(A))\n",
    "\n",
    "\n",
    "# trace\n",
    "display(tr(A))\n",
    "\n",
    "# determinant\n",
    "display(det(A))\n",
    "\n",
    "# inverse\n",
    "display(latexify(inv(A)))\n",
    "\n",
    "# eigen-stuff \n",
    "display(eigen(A))"
   ]
  },
  {
   "cell_type": "code",
   "execution_count": 65,
   "metadata": {
    "slideshow": {
     "slide_type": "subslide"
    }
   },
   "outputs": [
    {
     "data": {
      "text/plain": [
       "LU{Float64, Matrix{Float64}}\n",
       "L factor:\n",
       "3×3 Matrix{Float64}:\n",
       " 1.0        0.0   0.0\n",
       " 0.571429   1.0   0.0\n",
       " 0.142857  -0.24  1.0\n",
       "U factor:\n",
       "3×3 Matrix{Float64}:\n",
       " 7.0   8.0      1.0\n",
       " 0.0  -3.57143  5.42857\n",
       " 0.0   0.0      4.16"
      ]
     },
     "metadata": {},
     "output_type": "display_data"
    },
    {
     "data": {
      "text/latex": [
       "\\begin{equation}\n",
       "\\left[\n",
       "\\begin{array}{ccc}\n",
       "1.5 & 2.0 & -4.0 \\\\\n",
       "2.0 & -1.0 & -3.0 \\\\\n",
       "-4.0 & -3.0 & 5.0 \\\\\n",
       "\\end{array}\n",
       "\\right]\n",
       "\\end{equation}\n"
      ],
      "text/plain": [
       "L\"\\begin{equation}\n",
       "\\left[\n",
       "\\begin{array}{ccc}\n",
       "1.5 & 2.0 & -4.0 \\\\\n",
       "2.0 & -1.0 & -3.0 \\\\\n",
       "-4.0 & -3.0 & 5.0 \\\\\n",
       "\\end{array}\n",
       "\\right]\n",
       "\\end{equation}\n",
       "\""
      ]
     },
     "metadata": {},
     "output_type": "display_data"
    },
    {
     "data": {
      "text/plain": [
       "BunchKaufman{Float64, Matrix{Float64}}\n",
       "D factor:\n",
       "3×3 Tridiagonal{Float64, Vector{Float64}}:\n",
       " -1.64286   0.0   ⋅ \n",
       "  0.0      -2.8  0.0\n",
       "   ⋅        0.0  5.0\n",
       "U factor:\n",
       "3×3 UnitUpperTriangular{Float64, Matrix{Float64}}:\n",
       " 1.0  0.142857  -0.8\n",
       "  ⋅   1.0       -0.6\n",
       "  ⋅    ⋅         1.0\n",
       "permutation:\n",
       "3-element Vector{Int64}:\n",
       " 1\n",
       " 2\n",
       " 3"
      ]
     },
     "execution_count": 65,
     "metadata": {},
     "output_type": "execute_result"
    }
   ],
   "source": [
    "# there are lot's of convenient matrix factorizations \n",
    "\n",
    "display(factorize(A))  # LU is default unless your matrix is \"nice\" \n",
    "\n",
    "# a symmetric matrix\n",
    "B = [1.5 2 -4; 2 -1 -3; -4 -3 5]\n",
    "display(latexify(B))\n",
    "\n",
    "factorize(B)"
   ]
  },
  {
   "cell_type": "code",
   "execution_count": 79,
   "metadata": {
    "slideshow": {
     "slide_type": "subslide"
    }
   },
   "outputs": [
    {
     "name": "stdout",
     "output_type": "stream",
     "text": [
      "  729.478 ns (10 allocations: 1.69 KiB)\n",
      "  705.950 ns (10 allocations: 1.69 KiB)\n"
     ]
    },
    {
     "data": {
      "text/plain": [
       "3-element Vector{Float64}:\n",
       " -2.310376890836094\n",
       " -1.1153277149900287\n",
       "  8.925704605826123"
      ]
     },
     "execution_count": 79,
     "metadata": {},
     "output_type": "execute_result"
    }
   ],
   "source": [
    "# if we know a matrix is \"nice\" in advance, we can tell the compiler so that \n",
    "# it can optimize behind the scenes for us \n",
    "sB = Symmetric(B)\n",
    "\n",
    "@btime eigvals(B)\n",
    "@btime eigvals(sB)"
   ]
  },
  {
   "cell_type": "code",
   "execution_count": 86,
   "metadata": {
    "slideshow": {
     "slide_type": "subslide"
    }
   },
   "outputs": [
    {
     "data": {
      "text/plain": [
       "SVD{Float64, Float64, Matrix{Float64}}\n",
       "U factor:\n",
       "2×2 Matrix{Float64}:\n",
       "  0.213231  -0.977002\n",
       " -0.977002  -0.213231\n",
       "singular values:\n",
       "2-element Vector{Float64}:\n",
       " 10.52622986305051\n",
       "  2.280018611815189\n",
       "Vt factor:\n",
       "2×2 Matrix{Float64}:\n",
       " -0.443822   0.896115\n",
       " -0.896115  -0.443822"
      ]
     },
     "execution_count": 86,
     "metadata": {},
     "output_type": "execute_result"
    }
   ],
   "source": [
    "(U,Σ,Vt) = svd(A)"
   ]
  },
  {
   "cell_type": "markdown",
   "metadata": {
    "slideshow": {
     "slide_type": "subslide"
    }
   },
   "source": [
    "# DataFrames\n",
    "\n",
    "- The `DataFrames.jl` package is the defacto package for dealing with Tabular data. \n",
    "- Julia packages are typically about separating distinct functionality (instead of behemoth packages) so, you'll need `CSV.jl` if you data is stored as .csv files. "
   ]
  },
  {
   "cell_type": "code",
   "execution_count": 95,
   "metadata": {
    "scrolled": false,
    "slideshow": {
     "slide_type": "subslide"
    }
   },
   "outputs": [
    {
     "data": {
      "text/html": [
       "<div class=\"data-frame\"><p>150 rows × 6 columns</p><table class=\"data-frame\"><thead><tr><th></th><th>Id</th><th>SepalLengthCm</th><th>SepalWidthCm</th><th>PetalLengthCm</th><th>PetalWidthCm</th><th>Species</th></tr><tr><th></th><th title=\"Int64\">Int64</th><th title=\"Float64\">Float64</th><th title=\"Float64\">Float64</th><th title=\"Float64\">Float64</th><th title=\"Float64\">Float64</th><th title=\"String15\">String15</th></tr></thead><tbody><tr><th>1</th><td>1</td><td>5.1</td><td>3.5</td><td>1.4</td><td>0.2</td><td>Iris-setosa</td></tr><tr><th>2</th><td>2</td><td>4.9</td><td>3.0</td><td>1.4</td><td>0.2</td><td>Iris-setosa</td></tr><tr><th>3</th><td>3</td><td>4.7</td><td>3.2</td><td>1.3</td><td>0.2</td><td>Iris-setosa</td></tr><tr><th>4</th><td>4</td><td>4.6</td><td>3.1</td><td>1.5</td><td>0.2</td><td>Iris-setosa</td></tr><tr><th>5</th><td>5</td><td>5.0</td><td>3.6</td><td>1.4</td><td>0.2</td><td>Iris-setosa</td></tr><tr><th>6</th><td>6</td><td>5.4</td><td>3.9</td><td>1.7</td><td>0.4</td><td>Iris-setosa</td></tr><tr><th>7</th><td>7</td><td>4.6</td><td>3.4</td><td>1.4</td><td>0.3</td><td>Iris-setosa</td></tr><tr><th>8</th><td>8</td><td>5.0</td><td>3.4</td><td>1.5</td><td>0.2</td><td>Iris-setosa</td></tr><tr><th>9</th><td>9</td><td>4.4</td><td>2.9</td><td>1.4</td><td>0.2</td><td>Iris-setosa</td></tr><tr><th>10</th><td>10</td><td>4.9</td><td>3.1</td><td>1.5</td><td>0.1</td><td>Iris-setosa</td></tr><tr><th>11</th><td>11</td><td>5.4</td><td>3.7</td><td>1.5</td><td>0.2</td><td>Iris-setosa</td></tr><tr><th>12</th><td>12</td><td>4.8</td><td>3.4</td><td>1.6</td><td>0.2</td><td>Iris-setosa</td></tr><tr><th>13</th><td>13</td><td>4.8</td><td>3.0</td><td>1.4</td><td>0.1</td><td>Iris-setosa</td></tr><tr><th>14</th><td>14</td><td>4.3</td><td>3.0</td><td>1.1</td><td>0.1</td><td>Iris-setosa</td></tr><tr><th>15</th><td>15</td><td>5.8</td><td>4.0</td><td>1.2</td><td>0.2</td><td>Iris-setosa</td></tr><tr><th>16</th><td>16</td><td>5.7</td><td>4.4</td><td>1.5</td><td>0.4</td><td>Iris-setosa</td></tr><tr><th>17</th><td>17</td><td>5.4</td><td>3.9</td><td>1.3</td><td>0.4</td><td>Iris-setosa</td></tr><tr><th>18</th><td>18</td><td>5.1</td><td>3.5</td><td>1.4</td><td>0.3</td><td>Iris-setosa</td></tr><tr><th>19</th><td>19</td><td>5.7</td><td>3.8</td><td>1.7</td><td>0.3</td><td>Iris-setosa</td></tr><tr><th>20</th><td>20</td><td>5.1</td><td>3.8</td><td>1.5</td><td>0.3</td><td>Iris-setosa</td></tr><tr><th>21</th><td>21</td><td>5.4</td><td>3.4</td><td>1.7</td><td>0.2</td><td>Iris-setosa</td></tr><tr><th>22</th><td>22</td><td>5.1</td><td>3.7</td><td>1.5</td><td>0.4</td><td>Iris-setosa</td></tr><tr><th>23</th><td>23</td><td>4.6</td><td>3.6</td><td>1.0</td><td>0.2</td><td>Iris-setosa</td></tr><tr><th>24</th><td>24</td><td>5.1</td><td>3.3</td><td>1.7</td><td>0.5</td><td>Iris-setosa</td></tr><tr><th>25</th><td>25</td><td>4.8</td><td>3.4</td><td>1.9</td><td>0.2</td><td>Iris-setosa</td></tr><tr><th>26</th><td>26</td><td>5.0</td><td>3.0</td><td>1.6</td><td>0.2</td><td>Iris-setosa</td></tr><tr><th>27</th><td>27</td><td>5.0</td><td>3.4</td><td>1.6</td><td>0.4</td><td>Iris-setosa</td></tr><tr><th>28</th><td>28</td><td>5.2</td><td>3.5</td><td>1.5</td><td>0.2</td><td>Iris-setosa</td></tr><tr><th>29</th><td>29</td><td>5.2</td><td>3.4</td><td>1.4</td><td>0.2</td><td>Iris-setosa</td></tr><tr><th>30</th><td>30</td><td>4.7</td><td>3.2</td><td>1.6</td><td>0.2</td><td>Iris-setosa</td></tr><tr><th>&vellip;</th><td>&vellip;</td><td>&vellip;</td><td>&vellip;</td><td>&vellip;</td><td>&vellip;</td><td>&vellip;</td></tr></tbody></table></div>"
      ],
      "text/latex": [
       "\\begin{tabular}{r|cccccc}\n",
       "\t& Id & SepalLengthCm & SepalWidthCm & PetalLengthCm & PetalWidthCm & Species\\\\\n",
       "\t\\hline\n",
       "\t& Int64 & Float64 & Float64 & Float64 & Float64 & String15\\\\\n",
       "\t\\hline\n",
       "\t1 & 1 & 5.1 & 3.5 & 1.4 & 0.2 & Iris-setosa \\\\\n",
       "\t2 & 2 & 4.9 & 3.0 & 1.4 & 0.2 & Iris-setosa \\\\\n",
       "\t3 & 3 & 4.7 & 3.2 & 1.3 & 0.2 & Iris-setosa \\\\\n",
       "\t4 & 4 & 4.6 & 3.1 & 1.5 & 0.2 & Iris-setosa \\\\\n",
       "\t5 & 5 & 5.0 & 3.6 & 1.4 & 0.2 & Iris-setosa \\\\\n",
       "\t6 & 6 & 5.4 & 3.9 & 1.7 & 0.4 & Iris-setosa \\\\\n",
       "\t7 & 7 & 4.6 & 3.4 & 1.4 & 0.3 & Iris-setosa \\\\\n",
       "\t8 & 8 & 5.0 & 3.4 & 1.5 & 0.2 & Iris-setosa \\\\\n",
       "\t9 & 9 & 4.4 & 2.9 & 1.4 & 0.2 & Iris-setosa \\\\\n",
       "\t10 & 10 & 4.9 & 3.1 & 1.5 & 0.1 & Iris-setosa \\\\\n",
       "\t11 & 11 & 5.4 & 3.7 & 1.5 & 0.2 & Iris-setosa \\\\\n",
       "\t12 & 12 & 4.8 & 3.4 & 1.6 & 0.2 & Iris-setosa \\\\\n",
       "\t13 & 13 & 4.8 & 3.0 & 1.4 & 0.1 & Iris-setosa \\\\\n",
       "\t14 & 14 & 4.3 & 3.0 & 1.1 & 0.1 & Iris-setosa \\\\\n",
       "\t15 & 15 & 5.8 & 4.0 & 1.2 & 0.2 & Iris-setosa \\\\\n",
       "\t16 & 16 & 5.7 & 4.4 & 1.5 & 0.4 & Iris-setosa \\\\\n",
       "\t17 & 17 & 5.4 & 3.9 & 1.3 & 0.4 & Iris-setosa \\\\\n",
       "\t18 & 18 & 5.1 & 3.5 & 1.4 & 0.3 & Iris-setosa \\\\\n",
       "\t19 & 19 & 5.7 & 3.8 & 1.7 & 0.3 & Iris-setosa \\\\\n",
       "\t20 & 20 & 5.1 & 3.8 & 1.5 & 0.3 & Iris-setosa \\\\\n",
       "\t21 & 21 & 5.4 & 3.4 & 1.7 & 0.2 & Iris-setosa \\\\\n",
       "\t22 & 22 & 5.1 & 3.7 & 1.5 & 0.4 & Iris-setosa \\\\\n",
       "\t23 & 23 & 4.6 & 3.6 & 1.0 & 0.2 & Iris-setosa \\\\\n",
       "\t24 & 24 & 5.1 & 3.3 & 1.7 & 0.5 & Iris-setosa \\\\\n",
       "\t25 & 25 & 4.8 & 3.4 & 1.9 & 0.2 & Iris-setosa \\\\\n",
       "\t26 & 26 & 5.0 & 3.0 & 1.6 & 0.2 & Iris-setosa \\\\\n",
       "\t27 & 27 & 5.0 & 3.4 & 1.6 & 0.4 & Iris-setosa \\\\\n",
       "\t28 & 28 & 5.2 & 3.5 & 1.5 & 0.2 & Iris-setosa \\\\\n",
       "\t29 & 29 & 5.2 & 3.4 & 1.4 & 0.2 & Iris-setosa \\\\\n",
       "\t30 & 30 & 4.7 & 3.2 & 1.6 & 0.2 & Iris-setosa \\\\\n",
       "\t$\\dots$ & $\\dots$ & $\\dots$ & $\\dots$ & $\\dots$ & $\\dots$ & $\\dots$ \\\\\n",
       "\\end{tabular}\n"
      ],
      "text/plain": [
       "\u001b[1m150×6 DataFrame\u001b[0m\n",
       "\u001b[1m Row \u001b[0m│\u001b[1m Id    \u001b[0m\u001b[1m SepalLengthCm \u001b[0m\u001b[1m SepalWidthCm \u001b[0m\u001b[1m PetalLengthCm \u001b[0m\u001b[1m PetalWidthCm \u001b[0m\u001b[1m Specie\u001b[0m ⋯\n",
       "\u001b[1m     \u001b[0m│\u001b[90m Int64 \u001b[0m\u001b[90m Float64       \u001b[0m\u001b[90m Float64      \u001b[0m\u001b[90m Float64       \u001b[0m\u001b[90m Float64      \u001b[0m\u001b[90m String\u001b[0m ⋯\n",
       "─────┼──────────────────────────────────────────────────────────────────────────\n",
       "   1 │     1            5.1           3.5            1.4           0.2  Iris-s ⋯\n",
       "   2 │     2            4.9           3.0            1.4           0.2  Iris-s\n",
       "   3 │     3            4.7           3.2            1.3           0.2  Iris-s\n",
       "   4 │     4            4.6           3.1            1.5           0.2  Iris-s\n",
       "   5 │     5            5.0           3.6            1.4           0.2  Iris-s ⋯\n",
       "   6 │     6            5.4           3.9            1.7           0.4  Iris-s\n",
       "   7 │     7            4.6           3.4            1.4           0.3  Iris-s\n",
       "   8 │     8            5.0           3.4            1.5           0.2  Iris-s\n",
       "   9 │     9            4.4           2.9            1.4           0.2  Iris-s ⋯\n",
       "  10 │    10            4.9           3.1            1.5           0.1  Iris-s\n",
       "  11 │    11            5.4           3.7            1.5           0.2  Iris-s\n",
       "  ⋮  │   ⋮          ⋮             ⋮              ⋮             ⋮               ⋱\n",
       " 141 │   141            6.7           3.1            5.6           2.4  Iris-v\n",
       " 142 │   142            6.9           3.1            5.1           2.3  Iris-v ⋯\n",
       " 143 │   143            5.8           2.7            5.1           1.9  Iris-v\n",
       " 144 │   144            6.8           3.2            5.9           2.3  Iris-v\n",
       " 145 │   145            6.7           3.3            5.7           2.5  Iris-v\n",
       " 146 │   146            6.7           3.0            5.2           2.3  Iris-v ⋯\n",
       " 147 │   147            6.3           2.5            5.0           1.9  Iris-v\n",
       " 148 │   148            6.5           3.0            5.2           2.0  Iris-v\n",
       " 149 │   149            6.2           3.4            5.4           2.3  Iris-v\n",
       " 150 │   150            5.9           3.0            5.1           1.8  Iris-v ⋯\n",
       "\u001b[36m                                                   1 column and 129 rows omitted\u001b[0m"
      ]
     },
     "metadata": {},
     "output_type": "display_data"
    }
   ],
   "source": [
    "using DataFrames, CSV\n",
    "\n",
    "df = DataFrame(CSV.File(\"./Iris.csv\"))\n",
    "\n",
    "display(df)"
   ]
  },
  {
   "cell_type": "code",
   "execution_count": null,
   "metadata": {},
   "outputs": [],
   "source": []
  }
 ],
 "metadata": {
  "celltoolbar": "Slideshow",
  "kernelspec": {
   "display_name": "Julia 1.7.2",
   "language": "julia",
   "name": "julia-1.7"
  },
  "language_info": {
   "file_extension": ".jl",
   "mimetype": "application/julia",
   "name": "julia",
   "version": "1.7.2"
  }
 },
 "nbformat": 4,
 "nbformat_minor": 2
}
