{
 "cells": [
  {
   "cell_type": "markdown",
   "metadata": {
    "slideshow": {
     "slide_type": "skip"
    }
   },
   "source": [
    "To host the slides, run\n",
    "\n",
    "```bash\n",
    "jupyter nbconvert ./JuliaPresentation.ipynb --to slides --post serve\n",
    "```"
   ]
  },
  {
   "cell_type": "markdown",
   "metadata": {
    "slideshow": {
     "slide_type": "slide"
    }
   },
   "source": [
    "# Julia: A Fresh Take on Scientific Computing\n",
    "\n",
    "John Waczak \n",
    "04-07-2022"
   ]
  },
  {
   "cell_type": "markdown",
   "metadata": {
    "slideshow": {
     "slide_type": "subslide"
    }
   },
   "source": [
    "# About Me\n",
    "\n",
    "- MI3NTS Research Group \n",
    "- Applied physics + ML for societal benefit\n",
    "- Etc..."
   ]
  },
  {
   "cell_type": "markdown",
   "metadata": {
    "slideshow": {
     "slide_type": "subslide"
    }
   },
   "source": [
    "# Talk Outline\n",
    "\n",
    "0. Motivating Example\n",
    "1. Julia Overview\n",
    "2. Julia Package Ecosystem\n",
    "3. Jupyter and Pluto\n",
    "4. Scientific Computing\n",
    "5. $\\partial$P: Differentiable Programming\n",
    "6. Data Science / Machine Learning\n",
    "7. High Performance Computing\n",
    "8. Other Packages you should know about\n",
    "9. Resources \n"
   ]
  },
  {
   "cell_type": "markdown",
   "metadata": {
    "slideshow": {
     "slide_type": "slide"
    }
   },
   "source": [
    "# Motivating Example: Neural ODEs\n",
    "\n",
    "![Neural ODEs Paper](./figures/nodes_paper.png)\n"
   ]
  },
  {
   "cell_type": "markdown",
   "metadata": {
    "slideshow": {
     "slide_type": "subslide"
    }
   },
   "source": [
    "Looking closer at the code... "
   ]
  },
  {
   "cell_type": "markdown",
   "metadata": {
    "slideshow": {
     "slide_type": "subslide"
    }
   },
   "source": [
    "![torchdiffeq 1](./figures/torchdiffeqex1.png)"
   ]
  },
  {
   "cell_type": "markdown",
   "metadata": {
    "slideshow": {
     "slide_type": "subslide"
    }
   },
   "source": [
    "To get the functionality we want, we have to reimplement standard ODE solvers on `Pytorch`'s tensor types. You can't just use `SciPy` solvers with `Numpy` arrays! \n",
    "\n",
    "\n",
    "**Wouldn't it be nice if disparate code bases developed by different teams just worked together?** "
   ]
  },
  {
   "cell_type": "markdown",
   "metadata": {
    "slideshow": {
     "slide_type": "subslide"
    }
   },
   "source": [
    "# Enter Julia: A programming language by scientists, for scientists\n",
    "\n",
    "<iframe src=\"https://julialang.org\" title=\"The Julia Programming Language\"></iframe>"
   ]
  },
  {
   "cell_type": "markdown",
   "metadata": {
    "slideshow": {
     "slide_type": "slide"
    }
   },
   "source": [
    "# 1. Julia Overview"
   ]
  },
  {
   "cell_type": "markdown",
   "metadata": {
    "slideshow": {
     "slide_type": "subslide"
    }
   },
   "source": [
    "Julia is\n",
    "- **Fast**: The JIT compiles your functions to native LLVM\n",
    "- **Dynamically Typed**: develop your code quickly as you would in Python or R. \n",
    "- **Reproducible**: The powerful package manager makes reproducible environments a breeze. Package and hardware dependencies are tracked via `Project.toml` and `Manifest.toml` files\n",
    "- **Composable**: Julia uses a *multiple-dispatch* paradigm allowing for effortless package composition\n",
    "- **OPEN SOURCE** \n"
   ]
  },
  {
   "cell_type": "markdown",
   "metadata": {
    "slideshow": {
     "slide_type": "subslide"
    }
   },
   "source": [
    "# Running Julia\n",
    "There are two standard ways to run Julia: From a REPL (read-eval-print loop)\n",
    "\n",
    "![Julia REPL](./figures/juliaREPL.png)\n",
    "\n",
    "\n",
    "Or via the terminal, eg\n",
    "```bash\n",
    "$: julia my_script.jl\n",
    "```"
   ]
  },
  {
   "cell_type": "code",
   "execution_count": 2,
   "metadata": {
    "slideshow": {
     "slide_type": "subslide"
    }
   },
   "outputs": [
    {
     "name": "stdout",
     "output_type": "stream",
     "text": [
      "3\n",
      "2\n",
      "0.4997498749374687\n"
     ]
    }
   ],
   "source": [
    "# some common julia operations: \n",
    "\n",
    "a = 1 \n",
    "b = 2 \n",
    "ϵ = 0.001\n",
    "\n",
    "println(a+b)\n",
    "println(a*b)\n",
    "println((a-ϵ)/(b-ϵ))"
   ]
  },
  {
   "cell_type": "code",
   "execution_count": 8,
   "metadata": {
    "slideshow": {
     "slide_type": "subslide"
    }
   },
   "outputs": [
    {
     "name": "stdout",
     "output_type": "stream",
     "text": [
      "[0.0, 0.3090169943749474, 0.5877852522924731, 0.8090169943749475, 0.9510565162951535, 1.0, 0.9510565162951536, 0.8090169943749475, 0.5877852522924732, 0.3090169943749475, 1.2246467991473532e-16]\n",
      "\n",
      "\n",
      "[1.0, 1.369107770624847, 1.8744560875853382, 2.566332395208135, 3.5135856242857333, 4.810477380965351, 6.586061962694725, 9.017028610942077, 12.345283939187368, 16.902024171711545, 23.140692632779267]\n"
     ]
    }
   ],
   "source": [
    "# \".\" syntax is used for broadcasting across vectors, matrices, etc... \n",
    "\n",
    "x = 0:(π/10):π  # i.e. linspace()\n",
    "\n",
    "println(sin.(x))\n",
    "println(\"\\n\")\n",
    "println(exp.(x))"
   ]
  },
  {
   "cell_type": "code",
   "execution_count": 20,
   "metadata": {
    "slideshow": {
     "slide_type": "subslide"
    }
   },
   "outputs": [
    {
     "data": {
      "text/plain": [
       "2×1 Matrix{Float64}:\n",
       "  1.3999999999999995\n",
       " -2.5999999999999996"
      ]
     },
     "execution_count": 20,
     "metadata": {},
     "output_type": "execute_result"
    }
   ],
   "source": [
    "# some linear algebra examples\n",
    "\n",
    "A = [1 3; 5 -9]\n",
    "b = [1 2]\n",
    "\n",
    "x = A/b  # Solve linear system Ax = b"
   ]
  },
  {
   "cell_type": "code",
   "execution_count": 30,
   "metadata": {
    "slideshow": {
     "slide_type": "subslide"
    }
   },
   "outputs": [
    {
     "data": {
      "text/plain": [
       "2×2 adjoint(::Matrix{Int64}) with eltype Int64:\n",
       " 1   5\n",
       " 3  -9"
      ]
     },
     "metadata": {},
     "output_type": "display_data"
    },
    {
     "data": {
      "text/plain": [
       "2×2 Matrix{Complex{Int64}}:\n",
       "  1+0im  2+1im\n",
       " -3+0im  5-2im"
      ]
     },
     "metadata": {},
     "output_type": "display_data"
    },
    {
     "data": {
      "text/plain": [
       "2×2 adjoint(::Matrix{Complex{Int64}}) with eltype Complex{Int64}:\n",
       " 1+0im  -3+0im\n",
       " 2-1im   5+2im"
      ]
     },
     "metadata": {},
     "output_type": "display_data"
    }
   ],
   "source": [
    "display(A') # compute adjoint\n",
    "\n",
    "\n",
    "B= [ 1 2+1im; -3 5-2im]\n",
    "display(B)\n",
    "\n",
    "display(B')"
   ]
  },
  {
   "cell_type": "markdown",
   "metadata": {
    "slideshow": {
     "slide_type": "slide"
    }
   },
   "source": [
    "# Julia Package Ecosystem\n",
    "Packages in Julia can be included in code two different ways: \n",
    "- the `using` statement (add's packages functions to global namespace) \n",
    "- the `import` statement (python style restricted namespace) "
   ]
  },
  {
   "cell_type": "code",
   "execution_count": 35,
   "metadata": {
    "slideshow": {
     "slide_type": "subslide"
    }
   },
   "outputs": [],
   "source": [
    "using LinearAlgebra\n",
    "using DifferentialEquations\n",
    "using Plots\n",
    "using DataFrames  # Pandas-style data tables"
   ]
  },
  {
   "cell_type": "markdown",
   "metadata": {
    "slideshow": {
     "slide_type": "subslide"
    }
   },
   "source": [
    "For packages you don't have installed, you can add the easily in the repl or by using the `Pkg` package"
   ]
  },
  {
   "cell_type": "code",
   "execution_count": 36,
   "metadata": {
    "slideshow": {
     "slide_type": "subslide"
    }
   },
   "outputs": [
    {
     "name": "stderr",
     "output_type": "stream",
     "text": [
      "\u001b[32m\u001b[1m    Updating\u001b[22m\u001b[39m registry at `~/.julia/registries/General.toml`\n",
      "\u001b[32m\u001b[1m   Resolving\u001b[22m\u001b[39m package versions...\n",
      "\u001b[32m\u001b[1m    Updating\u001b[22m\u001b[39m `~/gitrepos/presentations/julia/code/Project.toml`\n",
      " \u001b[90m [23fbe1c1] \u001b[39m\u001b[92m+ Latexify v0.15.14\u001b[39m\n",
      "\u001b[32m\u001b[1m  No Changes\u001b[22m\u001b[39m to `~/gitrepos/presentations/julia/code/Manifest.toml`\n"
     ]
    }
   ],
   "source": [
    "using Pkg\n",
    "Pkg.add(\"Latexify\") \n",
    "\n",
    "# see updated .toml files"
   ]
  },
  {
   "cell_type": "code",
   "execution_count": 38,
   "metadata": {
    "slideshow": {
     "slide_type": "subslide"
    }
   },
   "outputs": [
    {
     "data": {
      "text/latex": [
       "\\begin{equation}\n",
       "\\left[\n",
       "\\begin{array}{cc}\n",
       "1 & 3 \\\\\n",
       "5 & -9 \\\\\n",
       "\\end{array}\n",
       "\\right]\n",
       "\\end{equation}\n"
      ],
      "text/plain": [
       "L\"\\begin{equation}\n",
       "\\left[\n",
       "\\begin{array}{cc}\n",
       "1 & 3 \\\\\n",
       "5 & -9 \\\\\n",
       "\\end{array}\n",
       "\\right]\n",
       "\\end{equation}\n",
       "\""
      ]
     },
     "execution_count": 38,
     "metadata": {},
     "output_type": "execute_result"
    }
   ],
   "source": [
    "# Now we can add the package\n",
    "using Latexify\n",
    "\n",
    "latexify(A)"
   ]
  },
  {
   "cell_type": "markdown",
   "metadata": {
    "slideshow": {
     "slide_type": "subslide"
    }
   },
   "source": [
    "# Getting help\n",
    "\n",
    "- Documentation in Julia is typically *pretty good*.\n",
    "- Package specific documentation often found through link in github readme \n",
    "- From the repl (or jupyter) you can get help by typing `?` followed by the function name\n",
    "- Docstrings use markdown allowing for nice styling, equation support, etc... "
   ]
  },
  {
   "cell_type": "code",
   "execution_count": 39,
   "metadata": {
    "slideshow": {
     "slide_type": "subslide"
    }
   },
   "outputs": [
    {
     "data": {
      "text/latex": [
       "\\begin{verbatim}\n",
       "Transpose\n",
       "\\end{verbatim}\n",
       "Lazy wrapper type for a transpose view of the underlying linear algebra object, usually an \\texttt{AbstractVector}/\\texttt{AbstractMatrix}, but also some \\texttt{Factorization}, for instance. Usually, the \\texttt{Transpose} constructor should not be called directly, use \\href{@ref}{\\texttt{transpose}} instead. To materialize the view use \\href{@ref}{\\texttt{copy}}.\n",
       "\n",
       "This type is intended for linear algebra usage - for general data manipulation see \\href{@ref Base.permutedims}{\\texttt{permutedims}}.\n",
       "\n",
       "\\section{Examples}\n",
       "\\begin{verbatim}\n",
       "julia> A = [3+2im 9+2im; 8+7im  4+6im]\n",
       "2×2 Matrix{Complex{Int64}}:\n",
       " 3+2im  9+2im\n",
       " 8+7im  4+6im\n",
       "\n",
       "julia> transpose(A)\n",
       "2×2 transpose(::Matrix{Complex{Int64}}) with eltype Complex{Int64}:\n",
       " 3+2im  8+7im\n",
       " 9+2im  4+6im\n",
       "\\end{verbatim}\n"
      ],
      "text/markdown": [
       "```\n",
       "Transpose\n",
       "```\n",
       "\n",
       "Lazy wrapper type for a transpose view of the underlying linear algebra object, usually an `AbstractVector`/`AbstractMatrix`, but also some `Factorization`, for instance. Usually, the `Transpose` constructor should not be called directly, use [`transpose`](@ref) instead. To materialize the view use [`copy`](@ref).\n",
       "\n",
       "This type is intended for linear algebra usage - for general data manipulation see [`permutedims`](@ref Base.permutedims).\n",
       "\n",
       "# Examples\n",
       "\n",
       "```jldoctest\n",
       "julia> A = [3+2im 9+2im; 8+7im  4+6im]\n",
       "2×2 Matrix{Complex{Int64}}:\n",
       " 3+2im  9+2im\n",
       " 8+7im  4+6im\n",
       "\n",
       "julia> transpose(A)\n",
       "2×2 transpose(::Matrix{Complex{Int64}}) with eltype Complex{Int64}:\n",
       " 3+2im  8+7im\n",
       " 9+2im  4+6im\n",
       "```\n"
      ],
      "text/plain": [
       "\u001b[36m  Transpose\u001b[39m\n",
       "\n",
       "  Lazy wrapper type for a transpose view of the underlying linear algebra\n",
       "  object, usually an \u001b[36mAbstractVector\u001b[39m/\u001b[36mAbstractMatrix\u001b[39m, but also some\n",
       "  \u001b[36mFactorization\u001b[39m, for instance. Usually, the \u001b[36mTranspose\u001b[39m constructor should not\n",
       "  be called directly, use \u001b[36mtranspose\u001b[39m instead. To materialize the view use \u001b[36mcopy\u001b[39m.\n",
       "\n",
       "  This type is intended for linear algebra usage - for general data\n",
       "  manipulation see \u001b[36mpermutedims\u001b[39m.\n",
       "\n",
       "\u001b[1m  Examples\u001b[22m\n",
       "\u001b[1m  ≡≡≡≡≡≡≡≡≡≡\u001b[22m\n",
       "\n",
       "\u001b[36m  julia> A = [3+2im 9+2im; 8+7im  4+6im]\u001b[39m\n",
       "\u001b[36m  2×2 Matrix{Complex{Int64}}:\u001b[39m\n",
       "\u001b[36m   3+2im  9+2im\u001b[39m\n",
       "\u001b[36m   8+7im  4+6im\u001b[39m\n",
       "\u001b[36m  \u001b[39m\n",
       "\u001b[36m  julia> transpose(A)\u001b[39m\n",
       "\u001b[36m  2×2 transpose(::Matrix{Complex{Int64}}) with eltype Complex{Int64}:\u001b[39m\n",
       "\u001b[36m   3+2im  8+7im\u001b[39m\n",
       "\u001b[36m   9+2im  4+6im\u001b[39m"
      ]
     },
     "execution_count": 39,
     "metadata": {},
     "output_type": "execute_result"
    }
   ],
   "source": [
    "?Transpose()"
   ]
  },
  {
   "cell_type": "markdown",
   "metadata": {
    "slideshow": {
     "slide_type": "subslide"
    }
   },
   "source": [
    "# Creating Reproducible Projects \n",
    "The package system at the reple makes it easy to generate repoducbile programming envionments. \n",
    "\n",
    "![Pkg Demo](./figures/NewProject.mov)\n",
    "\n",
    "- `Manifest.toml` and `Project.toml` will update as we add new dependencies\n",
    "- We can then version control these files for easily reproducible envrionments "
   ]
  },
  {
   "cell_type": "markdown",
   "metadata": {
    "slideshow": {
     "slide_type": "slide"
    }
   },
   "source": [
    "# 3. Jupyter, Pluto, VSCode, and all that\n",
    "\n",
    "There are many excellent ways to code in Julia from the standard Jupyter notebooks to the excellent VSCode extension. Pluto notebooks provide a unique reactive-style notebook exccelent for creating interactive documents and teaching resources.  "
   ]
  },
  {
   "cell_type": "markdown",
   "metadata": {
    "slideshow": {
     "slide_type": "subslide"
    }
   },
   "source": [
    "# Jupyter\n",
    "\n",
    "- Julia has full support for Jupyter via the `IJulia` package (as you can see from these slides...)\n",
    "- **NOTE** To add the Julia kernel to prexisting Jupyter installs, you may need to run `] build IJulia`"
   ]
  },
  {
   "cell_type": "markdown",
   "metadata": {},
   "source": [
    "# Pluto \n",
    "\n",
    "![Plut demo](./figures/plutodemo.gif)"
   ]
  },
  {
   "cell_type": "markdown",
   "metadata": {
    "slideshow": {
     "slide_type": "subslide"
    }
   },
   "source": [
    "MIT has designed their **[Introduction to Computational Thinking](https://computationalthinking.mit.edu/Spring21/)** course around these notebooks. Check out these interactive Pluto notebooks!\n",
    "\n",
    "![Intro Course](./figures/IntroCoursePage.mov)"
   ]
  },
  {
   "cell_type": "markdown",
   "metadata": {},
   "source": [
    "# VSCode \n",
    "\n",
    "If you prefer working with scripts from an IDE, VSCode has an excellent extension\n",
    "\n",
    "![VSCode Julia](./figures/VSCode.png)"
   ]
  },
  {
   "cell_type": "markdown",
   "metadata": {
    "slideshow": {
     "slide_type": "subslide"
    }
   },
   "source": [
    "...my personal preference is to use Emacs with vim keybindings ala `Spacemacs` \n",
    "\n",
    "![Spacemacs](./figures/spacemacs.png)"
   ]
  },
  {
   "cell_type": "code",
   "execution_count": null,
   "metadata": {},
   "outputs": [],
   "source": []
  }
 ],
 "metadata": {
  "celltoolbar": "Slideshow",
  "kernelspec": {
   "display_name": "Julia 1.7.2",
   "language": "julia",
   "name": "julia-1.7"
  },
  "language_info": {
   "file_extension": ".jl",
   "mimetype": "application/julia",
   "name": "julia",
   "version": "1.7.2"
  }
 },
 "nbformat": 4,
 "nbformat_minor": 2
}
